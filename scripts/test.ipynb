{
 "cells": [
  {
   "cell_type": "code",
   "execution_count": 28,
   "metadata": {},
   "outputs": [],
   "source": [
    "import numpy as np \n",
    "from sklearn.cluster import DBSCAN\n",
    "import Levenshtein\n",
    "import matplotlib.pyplot as plt\n",
    "import os\n",
    "import bisect\n",
    "\n",
    "from utils import *\n"
   ]
  },
  {
   "cell_type": "code",
   "execution_count": 67,
   "metadata": {},
   "outputs": [],
   "source": [
    "# translate into all possible frames (6)\n",
    "# can jump into a different frame only between reads -  no need (worry that same read different orientation will cause loop, but low chances with many reads long length)\n",
    "# save k-mer graph in hash table\n",
    "\n",
    "\n",
    "# recursion\n",
    "# start only at methionine\n",
    "# store k-mers in dictionary, go down most common path\n",
    "# can use bloom filter for search\n",
    "\n",
    "#  [ v for k,v in my_dict.items() if k.startswith('Date')]\n"
   ]
  },
  {
   "cell_type": "code",
   "execution_count": 6,
   "metadata": {},
   "outputs": [
    {
     "name": "stdout",
     "output_type": "stream",
     "text": [
      "/Users/nogaaharony/Library/CloudStorage/OneDrive-cumc.columbia.edu/CompGen/VORF/scripts\n",
      "974141\n"
     ]
    }
   ],
   "source": [
    "print(os.getcwd())\n",
    "t=read_fastq('../Data/HIV/CV167_1.fastq')\n",
    "dict=create_kmer_dictionary(t,8)\n",
    "\n",
    "key=list(dict.keys())\n",
    "val=list(dict.values())\n",
    "print(len(val))\n",
    "\n",
    "\n",
    "\n",
    "\n",
    "\n"
   ]
  },
  {
   "cell_type": "code",
   "execution_count": 30,
   "metadata": {},
   "outputs": [],
   "source": [
    "rate_top_kmers=0.001 #trinity just uses max\n",
    "rate_to_sig=0.05 #same as trinity\n",
    "kmer_count_threshold=np.mean(val[:round(len(val)*rate_top_kmers)])*rate_to_sig\n",
    "\n",
    "index_to_keep=bisect.bisect_left(val, kmer_count_threshold)\n",
    "dict_clean={k:v for k,v in zip(key[0:index_to_keep], val[0:index_to_keep])}"
   ]
  },
  {
   "cell_type": "code",
   "execution_count": 40,
   "metadata": {},
   "outputs": [
    {
     "name": "stdout",
     "output_type": "stream",
     "text": [
      "MTRVISGTKAVHLPRK_:0.1\n"
     ]
    }
   ],
   "source": [
    "\n",
    "start_sites=[contig(None,k, dict_clean[k]) for k in dict_clean.keys() if k.startswith('M') and '_' not in k]\n",
    "start_sites.sort(key=lambda x: x.abundance, reverse=True)\n",
    "\n",
    "k=8\n",
    "protein_dict={}\n",
    "for i in range(len(start_sites)):\n",
    "    queue=[]\n",
    "    strand=start_sites.pop()\n",
    "    while True:\n",
    "        if strand.string[-1]=='_':\n",
    "            break\n",
    "        exts=[contig(strand, key, val) for key,val in dict_clean.items() if key.startswith(strand.string[-k+1:])]\n",
    "        if len(exts)==1:\n",
    "            strand.string+=exts[0].string[-1]\n",
    "        elif not bool(queue):\n",
    "            strand=None\n",
    "            break\n",
    "        else:\n",
    "            queue.extend(exts)\n",
    "            queue.sort(key=lambda x: x.abundance, reverse=True)\n",
    "            strand.string=strand.string[:-k+1]\n",
    "            strand=queue.pop()\n",
    "    if strand!=None:\n",
    "        protein=\"\"\n",
    "        ab=0\n",
    "        while strand.parent!=None:\n",
    "            protein=strand.string+protein\n",
    "            ab=ab+strand.abundance\n",
    "            strand=strand.parent\n",
    "        protein=strand.string+protein\n",
    "        ab=strand.abundance+ab\n",
    "        protein_dict[protein]=ab\n",
    "\n",
    "        print(protein+\":\"+str(ab/(len(protein))))\n",
    "\n",
    "# do one then generalize for other genes\n",
    "# if 2 kmers identical except for one bp take bigger\n",
    "# go backwards fromstop codon, mark the last start codon you see at any point, if get to another stop codon or no options defaultto the start codon\n",
    "# or go back until option with highest abundance\n",
    "\n",
    "\n",
    "\n"
   ]
  },
  {
   "cell_type": "code",
   "execution_count": 45,
   "metadata": {},
   "outputs": [
    {
     "name": "stdout",
     "output_type": "stream",
     "text": [
      "34026\n"
     ]
    },
    {
     "ename": "RecursionError",
     "evalue": "maximum recursion depth exceeded in comparison",
     "output_type": "error",
     "traceback": [
      "\u001b[0;31m---------------------------------------------------------------------------\u001b[0m",
      "\u001b[0;31mRecursionError\u001b[0m                            Traceback (most recent call last)",
      "\u001b[1;32m/Users/nogaaharony/Library/CloudStorage/OneDrive-cumc.columbia.edu/CompGen/VORF/scripts/test.ipynb Cell 4'\u001b[0m in \u001b[0;36m<cell line: 6>\u001b[0;34m()\u001b[0m\n\u001b[1;32m      <a href='vscode-notebook-cell:/Users/nogaaharony/Library/CloudStorage/OneDrive-cumc.columbia.edu/CompGen/VORF/scripts/test.ipynb#ch0000001?line=4'>5</a>\u001b[0m strs\u001b[39m=\u001b[39m[]\n\u001b[1;32m      <a href='vscode-notebook-cell:/Users/nogaaharony/Library/CloudStorage/OneDrive-cumc.columbia.edu/CompGen/VORF/scripts/test.ipynb#ch0000001?line=5'>6</a>\u001b[0m \u001b[39mfor\u001b[39;00m k,v \u001b[39min\u001b[39;00m start_pos\u001b[39m.\u001b[39mitems():\n\u001b[0;32m----> <a href='vscode-notebook-cell:/Users/nogaaharony/Library/CloudStorage/OneDrive-cumc.columbia.edu/CompGen/VORF/scripts/test.ipynb#ch0000001?line=6'>7</a>\u001b[0m     strs\u001b[39m.\u001b[39mappend(find_path(dict_clean, k, \u001b[39m10\u001b[39;49m,v))\n\u001b[1;32m      <a href='vscode-notebook-cell:/Users/nogaaharony/Library/CloudStorage/OneDrive-cumc.columbia.edu/CompGen/VORF/scripts/test.ipynb#ch0000001?line=8'>9</a>\u001b[0m strs\u001b[39m=\u001b[39mflatten(strs)\n\u001b[1;32m     <a href='vscode-notebook-cell:/Users/nogaaharony/Library/CloudStorage/OneDrive-cumc.columbia.edu/CompGen/VORF/scripts/test.ipynb#ch0000001?line=9'>10</a>\u001b[0m strs\u001b[39m.\u001b[39msort(key \u001b[39m=\u001b[39m \u001b[39mlambda\u001b[39;00m x: x[\u001b[39m1\u001b[39m],reverse\u001b[39m=\u001b[39m\u001b[39mTrue\u001b[39;00m) \n",
      "\u001b[1;32m/Users/nogaaharony/Library/CloudStorage/OneDrive-cumc.columbia.edu/CompGen/VORF/scripts/test.ipynb Cell 1'\u001b[0m in \u001b[0;36mfind_path\u001b[0;34m(dict, str, k, score)\u001b[0m\n\u001b[1;32m    <a href='vscode-notebook-cell:/Users/nogaaharony/Library/CloudStorage/OneDrive-cumc.columbia.edu/CompGen/VORF/scripts/test.ipynb#ch0000000?line=106'>107</a>\u001b[0m \u001b[39m# else, find all possible paths\u001b[39;00m\n\u001b[1;32m    <a href='vscode-notebook-cell:/Users/nogaaharony/Library/CloudStorage/OneDrive-cumc.columbia.edu/CompGen/VORF/scripts/test.ipynb#ch0000000?line=107'>108</a>\u001b[0m \u001b[39melse\u001b[39;00m:\n\u001b[1;32m    <a href='vscode-notebook-cell:/Users/nogaaharony/Library/CloudStorage/OneDrive-cumc.columbia.edu/CompGen/VORF/scripts/test.ipynb#ch0000000?line=108'>109</a>\u001b[0m     \u001b[39mnext\u001b[39m\u001b[39m=\u001b[39m{key[\u001b[39m-\u001b[39m\u001b[39m1\u001b[39m]:val \u001b[39mfor\u001b[39;00m key,val \u001b[39min\u001b[39;00m \u001b[39mdict\u001b[39m\u001b[39m.\u001b[39mitems() \u001b[39mif\u001b[39;00m key\u001b[39m.\u001b[39mstartswith(\u001b[39mstr\u001b[39m[\u001b[39m-\u001b[39mk\u001b[39m+\u001b[39m\u001b[39m1\u001b[39m:])}\n\u001b[0;32m--> <a href='vscode-notebook-cell:/Users/nogaaharony/Library/CloudStorage/OneDrive-cumc.columbia.edu/CompGen/VORF/scripts/test.ipynb#ch0000000?line=109'>110</a>\u001b[0m     \u001b[39mreturn\u001b[39;00m [find_path(\u001b[39mdict\u001b[39m, \u001b[39mstr\u001b[39m\u001b[39m+\u001b[39mn,k,score\u001b[39m+\u001b[39ms) \u001b[39mfor\u001b[39;00m n,s \u001b[39min\u001b[39;00m \u001b[39mnext\u001b[39m\u001b[39m.\u001b[39mitems()]\n",
      "\u001b[1;32m/Users/nogaaharony/Library/CloudStorage/OneDrive-cumc.columbia.edu/CompGen/VORF/scripts/test.ipynb Cell 1'\u001b[0m in \u001b[0;36m<listcomp>\u001b[0;34m(.0)\u001b[0m\n\u001b[1;32m    <a href='vscode-notebook-cell:/Users/nogaaharony/Library/CloudStorage/OneDrive-cumc.columbia.edu/CompGen/VORF/scripts/test.ipynb#ch0000000?line=106'>107</a>\u001b[0m \u001b[39m# else, find all possible paths\u001b[39;00m\n\u001b[1;32m    <a href='vscode-notebook-cell:/Users/nogaaharony/Library/CloudStorage/OneDrive-cumc.columbia.edu/CompGen/VORF/scripts/test.ipynb#ch0000000?line=107'>108</a>\u001b[0m \u001b[39melse\u001b[39;00m:\n\u001b[1;32m    <a href='vscode-notebook-cell:/Users/nogaaharony/Library/CloudStorage/OneDrive-cumc.columbia.edu/CompGen/VORF/scripts/test.ipynb#ch0000000?line=108'>109</a>\u001b[0m     \u001b[39mnext\u001b[39m\u001b[39m=\u001b[39m{key[\u001b[39m-\u001b[39m\u001b[39m1\u001b[39m]:val \u001b[39mfor\u001b[39;00m key,val \u001b[39min\u001b[39;00m \u001b[39mdict\u001b[39m\u001b[39m.\u001b[39mitems() \u001b[39mif\u001b[39;00m key\u001b[39m.\u001b[39mstartswith(\u001b[39mstr\u001b[39m[\u001b[39m-\u001b[39mk\u001b[39m+\u001b[39m\u001b[39m1\u001b[39m:])}\n\u001b[0;32m--> <a href='vscode-notebook-cell:/Users/nogaaharony/Library/CloudStorage/OneDrive-cumc.columbia.edu/CompGen/VORF/scripts/test.ipynb#ch0000000?line=109'>110</a>\u001b[0m     \u001b[39mreturn\u001b[39;00m [find_path(\u001b[39mdict\u001b[39;49m, \u001b[39mstr\u001b[39;49m\u001b[39m+\u001b[39;49mn,k,score\u001b[39m+\u001b[39;49ms) \u001b[39mfor\u001b[39;00m n,s \u001b[39min\u001b[39;00m \u001b[39mnext\u001b[39m\u001b[39m.\u001b[39mitems()]\n",
      "\u001b[1;32m/Users/nogaaharony/Library/CloudStorage/OneDrive-cumc.columbia.edu/CompGen/VORF/scripts/test.ipynb Cell 1'\u001b[0m in \u001b[0;36mfind_path\u001b[0;34m(dict, str, k, score)\u001b[0m\n\u001b[1;32m    <a href='vscode-notebook-cell:/Users/nogaaharony/Library/CloudStorage/OneDrive-cumc.columbia.edu/CompGen/VORF/scripts/test.ipynb#ch0000000?line=106'>107</a>\u001b[0m \u001b[39m# else, find all possible paths\u001b[39;00m\n\u001b[1;32m    <a href='vscode-notebook-cell:/Users/nogaaharony/Library/CloudStorage/OneDrive-cumc.columbia.edu/CompGen/VORF/scripts/test.ipynb#ch0000000?line=107'>108</a>\u001b[0m \u001b[39melse\u001b[39;00m:\n\u001b[1;32m    <a href='vscode-notebook-cell:/Users/nogaaharony/Library/CloudStorage/OneDrive-cumc.columbia.edu/CompGen/VORF/scripts/test.ipynb#ch0000000?line=108'>109</a>\u001b[0m     \u001b[39mnext\u001b[39m\u001b[39m=\u001b[39m{key[\u001b[39m-\u001b[39m\u001b[39m1\u001b[39m]:val \u001b[39mfor\u001b[39;00m key,val \u001b[39min\u001b[39;00m \u001b[39mdict\u001b[39m\u001b[39m.\u001b[39mitems() \u001b[39mif\u001b[39;00m key\u001b[39m.\u001b[39mstartswith(\u001b[39mstr\u001b[39m[\u001b[39m-\u001b[39mk\u001b[39m+\u001b[39m\u001b[39m1\u001b[39m:])}\n\u001b[0;32m--> <a href='vscode-notebook-cell:/Users/nogaaharony/Library/CloudStorage/OneDrive-cumc.columbia.edu/CompGen/VORF/scripts/test.ipynb#ch0000000?line=109'>110</a>\u001b[0m     \u001b[39mreturn\u001b[39;00m [find_path(\u001b[39mdict\u001b[39m, \u001b[39mstr\u001b[39m\u001b[39m+\u001b[39mn,k,score\u001b[39m+\u001b[39ms) \u001b[39mfor\u001b[39;00m n,s \u001b[39min\u001b[39;00m \u001b[39mnext\u001b[39m\u001b[39m.\u001b[39mitems()]\n",
      "\u001b[1;32m/Users/nogaaharony/Library/CloudStorage/OneDrive-cumc.columbia.edu/CompGen/VORF/scripts/test.ipynb Cell 1'\u001b[0m in \u001b[0;36m<listcomp>\u001b[0;34m(.0)\u001b[0m\n\u001b[1;32m    <a href='vscode-notebook-cell:/Users/nogaaharony/Library/CloudStorage/OneDrive-cumc.columbia.edu/CompGen/VORF/scripts/test.ipynb#ch0000000?line=106'>107</a>\u001b[0m \u001b[39m# else, find all possible paths\u001b[39;00m\n\u001b[1;32m    <a href='vscode-notebook-cell:/Users/nogaaharony/Library/CloudStorage/OneDrive-cumc.columbia.edu/CompGen/VORF/scripts/test.ipynb#ch0000000?line=107'>108</a>\u001b[0m \u001b[39melse\u001b[39;00m:\n\u001b[1;32m    <a href='vscode-notebook-cell:/Users/nogaaharony/Library/CloudStorage/OneDrive-cumc.columbia.edu/CompGen/VORF/scripts/test.ipynb#ch0000000?line=108'>109</a>\u001b[0m     \u001b[39mnext\u001b[39m\u001b[39m=\u001b[39m{key[\u001b[39m-\u001b[39m\u001b[39m1\u001b[39m]:val \u001b[39mfor\u001b[39;00m key,val \u001b[39min\u001b[39;00m \u001b[39mdict\u001b[39m\u001b[39m.\u001b[39mitems() \u001b[39mif\u001b[39;00m key\u001b[39m.\u001b[39mstartswith(\u001b[39mstr\u001b[39m[\u001b[39m-\u001b[39mk\u001b[39m+\u001b[39m\u001b[39m1\u001b[39m:])}\n\u001b[0;32m--> <a href='vscode-notebook-cell:/Users/nogaaharony/Library/CloudStorage/OneDrive-cumc.columbia.edu/CompGen/VORF/scripts/test.ipynb#ch0000000?line=109'>110</a>\u001b[0m     \u001b[39mreturn\u001b[39;00m [find_path(\u001b[39mdict\u001b[39;49m, \u001b[39mstr\u001b[39;49m\u001b[39m+\u001b[39;49mn,k,score\u001b[39m+\u001b[39;49ms) \u001b[39mfor\u001b[39;00m n,s \u001b[39min\u001b[39;00m \u001b[39mnext\u001b[39m\u001b[39m.\u001b[39mitems()]\n",
      "    \u001b[0;31m[... skipping similar frames: <listcomp> at line 110 (1483 times), find_path at line 110 (1483 times)]\u001b[0m\n",
      "\u001b[1;32m/Users/nogaaharony/Library/CloudStorage/OneDrive-cumc.columbia.edu/CompGen/VORF/scripts/test.ipynb Cell 1'\u001b[0m in \u001b[0;36mfind_path\u001b[0;34m(dict, str, k, score)\u001b[0m\n\u001b[1;32m    <a href='vscode-notebook-cell:/Users/nogaaharony/Library/CloudStorage/OneDrive-cumc.columbia.edu/CompGen/VORF/scripts/test.ipynb#ch0000000?line=106'>107</a>\u001b[0m \u001b[39m# else, find all possible paths\u001b[39;00m\n\u001b[1;32m    <a href='vscode-notebook-cell:/Users/nogaaharony/Library/CloudStorage/OneDrive-cumc.columbia.edu/CompGen/VORF/scripts/test.ipynb#ch0000000?line=107'>108</a>\u001b[0m \u001b[39melse\u001b[39;00m:\n\u001b[1;32m    <a href='vscode-notebook-cell:/Users/nogaaharony/Library/CloudStorage/OneDrive-cumc.columbia.edu/CompGen/VORF/scripts/test.ipynb#ch0000000?line=108'>109</a>\u001b[0m     \u001b[39mnext\u001b[39m\u001b[39m=\u001b[39m{key[\u001b[39m-\u001b[39m\u001b[39m1\u001b[39m]:val \u001b[39mfor\u001b[39;00m key,val \u001b[39min\u001b[39;00m \u001b[39mdict\u001b[39m\u001b[39m.\u001b[39mitems() \u001b[39mif\u001b[39;00m key\u001b[39m.\u001b[39mstartswith(\u001b[39mstr\u001b[39m[\u001b[39m-\u001b[39mk\u001b[39m+\u001b[39m\u001b[39m1\u001b[39m:])}\n\u001b[0;32m--> <a href='vscode-notebook-cell:/Users/nogaaharony/Library/CloudStorage/OneDrive-cumc.columbia.edu/CompGen/VORF/scripts/test.ipynb#ch0000000?line=109'>110</a>\u001b[0m     \u001b[39mreturn\u001b[39;00m [find_path(\u001b[39mdict\u001b[39m, \u001b[39mstr\u001b[39m\u001b[39m+\u001b[39mn,k,score\u001b[39m+\u001b[39ms) \u001b[39mfor\u001b[39;00m n,s \u001b[39min\u001b[39;00m \u001b[39mnext\u001b[39m\u001b[39m.\u001b[39mitems()]\n",
      "\u001b[1;32m/Users/nogaaharony/Library/CloudStorage/OneDrive-cumc.columbia.edu/CompGen/VORF/scripts/test.ipynb Cell 1'\u001b[0m in \u001b[0;36m<listcomp>\u001b[0;34m(.0)\u001b[0m\n\u001b[1;32m    <a href='vscode-notebook-cell:/Users/nogaaharony/Library/CloudStorage/OneDrive-cumc.columbia.edu/CompGen/VORF/scripts/test.ipynb#ch0000000?line=106'>107</a>\u001b[0m \u001b[39m# else, find all possible paths\u001b[39;00m\n\u001b[1;32m    <a href='vscode-notebook-cell:/Users/nogaaharony/Library/CloudStorage/OneDrive-cumc.columbia.edu/CompGen/VORF/scripts/test.ipynb#ch0000000?line=107'>108</a>\u001b[0m \u001b[39melse\u001b[39;00m:\n\u001b[1;32m    <a href='vscode-notebook-cell:/Users/nogaaharony/Library/CloudStorage/OneDrive-cumc.columbia.edu/CompGen/VORF/scripts/test.ipynb#ch0000000?line=108'>109</a>\u001b[0m     \u001b[39mnext\u001b[39m\u001b[39m=\u001b[39m{key[\u001b[39m-\u001b[39m\u001b[39m1\u001b[39m]:val \u001b[39mfor\u001b[39;00m key,val \u001b[39min\u001b[39;00m \u001b[39mdict\u001b[39m\u001b[39m.\u001b[39mitems() \u001b[39mif\u001b[39;00m key\u001b[39m.\u001b[39mstartswith(\u001b[39mstr\u001b[39m[\u001b[39m-\u001b[39mk\u001b[39m+\u001b[39m\u001b[39m1\u001b[39m:])}\n\u001b[0;32m--> <a href='vscode-notebook-cell:/Users/nogaaharony/Library/CloudStorage/OneDrive-cumc.columbia.edu/CompGen/VORF/scripts/test.ipynb#ch0000000?line=109'>110</a>\u001b[0m     \u001b[39mreturn\u001b[39;00m [find_path(\u001b[39mdict\u001b[39;49m, \u001b[39mstr\u001b[39;49m\u001b[39m+\u001b[39;49mn,k,score\u001b[39m+\u001b[39;49ms) \u001b[39mfor\u001b[39;00m n,s \u001b[39min\u001b[39;00m \u001b[39mnext\u001b[39m\u001b[39m.\u001b[39mitems()]\n",
      "\u001b[1;32m/Users/nogaaharony/Library/CloudStorage/OneDrive-cumc.columbia.edu/CompGen/VORF/scripts/test.ipynb Cell 1'\u001b[0m in \u001b[0;36mfind_path\u001b[0;34m(dict, str, k, score)\u001b[0m\n\u001b[1;32m    <a href='vscode-notebook-cell:/Users/nogaaharony/Library/CloudStorage/OneDrive-cumc.columbia.edu/CompGen/VORF/scripts/test.ipynb#ch0000000?line=101'>102</a>\u001b[0m \u001b[39mdef\u001b[39;00m \u001b[39mfind_path\u001b[39m(\u001b[39mdict\u001b[39m, \u001b[39mstr\u001b[39m,k,score):\n\u001b[1;32m    <a href='vscode-notebook-cell:/Users/nogaaharony/Library/CloudStorage/OneDrive-cumc.columbia.edu/CompGen/VORF/scripts/test.ipynb#ch0000000?line=102'>103</a>\u001b[0m     \u001b[39m# if last letter is stop sequence, return substring and remove from all kmers from dict\u001b[39;00m\n\u001b[0;32m--> <a href='vscode-notebook-cell:/Users/nogaaharony/Library/CloudStorage/OneDrive-cumc.columbia.edu/CompGen/VORF/scripts/test.ipynb#ch0000000?line=103'>104</a>\u001b[0m     \u001b[39mif\u001b[39;00m \u001b[39mstr\u001b[39;49m[\u001b[39m-\u001b[39;49m\u001b[39m1\u001b[39;49m]\u001b[39m==\u001b[39;49m\u001b[39m'\u001b[39;49m\u001b[39m_\u001b[39;49m\u001b[39m'\u001b[39;49m:\n\u001b[1;32m    <a href='vscode-notebook-cell:/Users/nogaaharony/Library/CloudStorage/OneDrive-cumc.columbia.edu/CompGen/VORF/scripts/test.ipynb#ch0000000?line=104'>105</a>\u001b[0m         \u001b[39m# TODO: remove instances from dict\u001b[39;00m\n\u001b[1;32m    <a href='vscode-notebook-cell:/Users/nogaaharony/Library/CloudStorage/OneDrive-cumc.columbia.edu/CompGen/VORF/scripts/test.ipynb#ch0000000?line=105'>106</a>\u001b[0m         \u001b[39mreturn\u001b[39;00m \u001b[39mstr\u001b[39m,score\u001b[39m/\u001b[39m(\u001b[39mlen\u001b[39m(\u001b[39mstr\u001b[39m)\u001b[39m-\u001b[39mk\u001b[39m+\u001b[39m\u001b[39m1\u001b[39m)\n\u001b[1;32m    <a href='vscode-notebook-cell:/Users/nogaaharony/Library/CloudStorage/OneDrive-cumc.columbia.edu/CompGen/VORF/scripts/test.ipynb#ch0000000?line=106'>107</a>\u001b[0m     \u001b[39m# else, find all possible paths\u001b[39;00m\n\u001b[1;32m    <a href='vscode-notebook-cell:/Users/nogaaharony/Library/CloudStorage/OneDrive-cumc.columbia.edu/CompGen/VORF/scripts/test.ipynb#ch0000000?line=107'>108</a>\u001b[0m     \u001b[39melse\u001b[39;00m:\n",
      "\u001b[0;31mRecursionError\u001b[0m: maximum recursion depth exceeded in comparison"
     ]
    }
   ],
   "source": [
    "\n",
    "print(len(dict_clean))\n",
    "\n",
    "start_pos={ k: dict_clean[k] for k in dict_clean.keys() if k.startswith('M') and '_' not in k}\n",
    "# TODO: add edge case for start pos in first kmer\n",
    "strs=[]\n",
    "for k,v in start_pos.items():\n",
    "    strs.append(find_path(dict_clean, k, 10,v))\n",
    "\n",
    "strs=flatten(strs)\n",
    "strs.sort(key = lambda x: x[1],reverse=True) \n",
    "print(strs)\n",
    "\n",
    "\n",
    "#merge similar strings  (different base pairs, then alternative start sites)\n",
    "stn=[s[0] for s in strs]\n",
    "#x1,y1=np.meshgrid(stn,stn)\n",
    "#veclev=np.vectorize(Levenshtein.ratio)\n",
    "#compmat=veclev(x1,y1)\n",
    "#compmat>0.95\n",
    "\n",
    "# when find path need to remove all reverse complements and alternative start sites from dictionary\n",
    "\n",
    "def lev_metric(x, y):\n",
    "    i, j = int(x[0]), int(y[0])     # extract indices\n",
    "    return Levenshtein.distance(stn[i], stn[j])\n",
    "\n",
    "X = np.arange(len(stn)).reshape(-1, 1)\n",
    "\n"
   ]
  },
  {
   "cell_type": "code",
   "execution_count": null,
   "metadata": {},
   "outputs": [],
   "source": [
    "def make_paths(dict, str,k,score):\n",
    "    # if last letter is stop sequence, return substring and remove from all kmers from dict\n",
    "    if str[-1]=='_':\n",
    "        # TODO: remove instances from dict\n",
    "        return str,score/(len(str)-k+1)\n",
    "    # else, find all possible paths\n",
    "    else:\n",
    "        next={key[-1]:val for key,val in dict.items() if key.startswith(str[-k+1:])}\n",
    "\n",
    "        return [find_path(dict, str+n,k,score+s) for n,s in next.items()]\n",
    "\n",
    "# create paths and save them\n",
    "# if there is a break save path and score up to break\n",
    "# then "
   ]
  },
  {
   "cell_type": "code",
   "execution_count": 15,
   "metadata": {},
   "outputs": [
    {
     "data": {
      "text/plain": [
       "array([-1,  0, -1,  1,  0, -1,  1, -1, -1,  2,  2,  3,  3,  4,  4, -1, -1,\n",
       "       -1, -1, -1, -1, -1, -1, -1, -1, -1])"
      ]
     },
     "execution_count": 15,
     "metadata": {},
     "output_type": "execute_result"
    }
   ],
   "source": [
    "clustering=DBSCAN(eps=2, metric=lev_metric, min_samples=2).fit(X)\n",
    "clustering.labels_"
   ]
  }
 ],
 "metadata": {
  "interpreter": {
   "hash": "aee8b7b246df8f9039afb4144a1f6fd8d2ca17a180786b69acc140d282b71a49"
  },
  "kernelspec": {
   "display_name": "Python 3.9.1 64-bit",
   "language": "python",
   "name": "python3"
  },
  "language_info": {
   "codemirror_mode": {
    "name": "ipython",
    "version": 3
   },
   "file_extension": ".py",
   "mimetype": "text/x-python",
   "name": "python",
   "nbconvert_exporter": "python",
   "pygments_lexer": "ipython3",
   "version": "3.9.5"
  },
  "orig_nbformat": 4
 },
 "nbformat": 4,
 "nbformat_minor": 2
}
