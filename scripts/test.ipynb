{
 "cells": [
  {
   "cell_type": "code",
   "execution_count": 6,
   "metadata": {},
   "outputs": [],
   "source": [
    "import numpy as np \n",
    "from sklearn.cluster import DBSCAN\n",
    "import Levenshtein\n",
    "import matplotlib.pyplot as plt\n",
    "import os\n",
    "import bisect\n",
    "import pdb\n",
    "import copy\n",
    "from utils import *\n",
    "\n"
   ]
  },
  {
   "cell_type": "code",
   "execution_count": 7,
   "metadata": {},
   "outputs": [],
   "source": [
    "\n",
    "datafiles={'COVID':['../Data/HIV/CV167_1.fastq','../Data/HIV/CV167_2.fastq'], 'HIV':['../Data/HIV/CV167_1.fastq','../Data/HIV/CV167_2.fastq'], 'Lassa':['../Data/Lassa/K7_1.fastq', '../Data/Lassa/K7_1.fastq']}\n",
    "k=8\n",
    "\n",
    "sequences={}\n",
    "for name,file_list in datafiles.items():\n",
    "\n",
    "    t=read_fastq(file_list)\n",
    "    dict=create_kmer_dictionary(t,k)\n",
    "    dict_clean=clean_dict(dict)\n",
    "    proteins=assemble_proteins(copy.copy(dict_clean),k)\n",
    "    res=write_seq(name, proteins)\n",
    "\n",
    "    sequences[name]=res\n"
   ]
  }
 ],
 "metadata": {
  "interpreter": {
   "hash": "aee8b7b246df8f9039afb4144a1f6fd8d2ca17a180786b69acc140d282b71a49"
  },
  "kernelspec": {
   "display_name": "Python 3.9.1 64-bit",
   "language": "python",
   "name": "python3"
  },
  "language_info": {
   "codemirror_mode": {
    "name": "ipython",
    "version": 3
   },
   "file_extension": ".py",
   "mimetype": "text/x-python",
   "name": "python",
   "nbconvert_exporter": "python",
   "pygments_lexer": "ipython3",
   "version": "3.9.1"
  },
  "orig_nbformat": 4
 },
 "nbformat": 4,
 "nbformat_minor": 2
}
